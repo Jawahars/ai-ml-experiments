{
 "cells": [
  {
   "cell_type": "markdown",
   "id": "8fc41a8c",
   "metadata": {},
   "source": [
    "# Decide the ranges for color printouts\n",
    "\n",
    "Scan the pages of the given pdf and check if any minute text or intense colorful picture is there. This returns 2 lists.\n",
    "1. Page numbers recommended to color printout\n",
    "2. Remaining page numbers"
   ]
  },
  {
   "cell_type": "code",
   "execution_count": 34,
   "id": "a28bc03d",
   "metadata": {},
   "outputs": [],
   "source": [
    "import fitz  # PyMuPDF\n",
    "import numpy as np\n",
    "from PIL import Image\n",
    "\n",
    "def pages_to_ranges(pages):\n",
    "    \"\"\"Convert a list of page numbers into a compact range string.\"\"\"\n",
    "    if not pages:\n",
    "        return \"\"\n",
    "    pages = sorted(pages)\n",
    "    ranges = []\n",
    "    start = prev = pages[0]\n",
    "\n",
    "    for p in pages[1:]:\n",
    "        if p == prev + 1:\n",
    "            prev = p\n",
    "        else:\n",
    "            if start == prev:\n",
    "                ranges.append(str(start))\n",
    "            else:\n",
    "                ranges.append(f\"{start}-{prev}\")\n",
    "            start = prev = p\n",
    "    # add last range\n",
    "    if start == prev:\n",
    "        ranges.append(str(start))\n",
    "    else:\n",
    "        ranges.append(f\"{start}-{prev}\")\n",
    "\n",
    "    return \", \".join(ranges)\n",
    "\n",
    "\n",
    "def classify_pdf_pages(file_path):\n",
    "    \"\"\"\n",
    "    Classify PDF pages into color or monochrome lists.\n",
    "    - Uses adaptive colorfulness threshold (median * 1.3)\n",
    "    - Flags pages as color if more than 50% of text spans are tiny (<7pt)\n",
    "    \"\"\"\n",
    "    doc = fitz.open(file_path)\n",
    "\n",
    "    colorfulness_scores = []\n",
    "    text_ratios = []\n",
    "\n",
    "    # First pass: collect stats\n",
    "    for page in doc:\n",
    "        pix = page.get_pixmap(matrix=fitz.Matrix(2, 2))\n",
    "        arr = np.array(Image.frombytes(\"RGB\", [pix.width, pix.height], pix.samples))\n",
    "        std_per_channel = arr.std(axis=(0, 1))\n",
    "        colorfulness = std_per_channel.mean()\n",
    "        colorfulness_scores.append(colorfulness)\n",
    "\n",
    "        words = page.get_text(\"dict\")[\"blocks\"]\n",
    "        small_text_count, total_text_count = 0, 0\n",
    "        for block in words:\n",
    "            if block[\"type\"] == 0:\n",
    "                for line in block[\"lines\"]:\n",
    "                    for span in line[\"spans\"]:\n",
    "                        total_text_count += 1\n",
    "                        if span[\"size\"] < 7:\n",
    "                            small_text_count += 1\n",
    "        ratio = small_text_count / total_text_count if total_text_count else 0\n",
    "        text_ratios.append(ratio)\n",
    "\n",
    "    # Adaptive thresholds\n",
    "    median_colorfulness = np.median(colorfulness_scores)\n",
    "    color_threshold = max(35, median_colorfulness * 1.3)\n",
    "    small_text_threshold = 0.5\n",
    "\n",
    "    # Classify\n",
    "    color_pages, mono_pages = [], []\n",
    "    for i, (c_score, t_ratio) in enumerate(zip(colorfulness_scores, text_ratios)):\n",
    "        if c_score > color_threshold or t_ratio > small_text_threshold:\n",
    "            color_pages.append(i + 1)\n",
    "        else:\n",
    "            mono_pages.append(i + 1)\n",
    "\n",
    "    doc.close()\n",
    "    return color_pages, mono_pages"
   ]
  },
  {
   "cell_type": "code",
   "execution_count": 27,
   "id": "701669b4",
   "metadata": {},
   "outputs": [],
   "source": [
    "color, mono = classify_pdf_pages('/Users/jawahar/Downloads/Advanced Deep Learning.pdf')"
   ]
  },
  {
   "cell_type": "code",
   "execution_count": 32,
   "id": "a9b25304",
   "metadata": {},
   "outputs": [
    {
     "name": "stdout",
     "output_type": "stream",
     "text": [
      "Color pages count:  87\n",
      "Monochrome pages: 123\n",
      " _______________ \n",
      "Color pages: 2, 5-7, 11-12, 14-17, 19, 24, 34, 42-44, 49, 59, 61, 65-68, 70-71, 73-77, 80, 82-84, 87-89, 91, 100, 104-114, 118, 125, 127-128, 130, 134-135, 139, 143-144, 146, 148-153, 159, 161-163, 165, 171, 175-176, 179, 181-185, 203-208\n",
      "Monochrome pages: 1, 3-4, 8-10, 13, 18, 20-23, 25-33, 35-41, 45-48, 50-58, 60, 62-64, 69, 72, 78-79, 81, 85-86, 90, 92-99, 101-103, 115-117, 119-124, 126, 129, 131-133, 136-138, 140-142, 145, 147, 154-158, 160, 164, 166-170, 172-174, 177-178, 180, 186-202, 209-210\n"
     ]
    }
   ],
   "source": [
    "print(\"Color pages count: \", len(color))\n",
    "print(\"Monochrome pages:\", len(mono))\n",
    "print( ' _______________ ')\n",
    "print(\"Color pages:\", pages_to_ranges(color))\n",
    "print(\"Monochrome pages:\", pages_to_ranges(mono))"
   ]
  }
 ],
 "metadata": {
  "kernelspec": {
   "display_name": ".venv",
   "language": "python",
   "name": "python3"
  },
  "language_info": {
   "codemirror_mode": {
    "name": "ipython",
    "version": 3
   },
   "file_extension": ".py",
   "mimetype": "text/x-python",
   "name": "python",
   "nbconvert_exporter": "python",
   "pygments_lexer": "ipython3",
   "version": "3.12.2"
  }
 },
 "nbformat": 4,
 "nbformat_minor": 5
}
