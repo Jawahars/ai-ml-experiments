{
 "cells": [
  {
   "cell_type": "markdown",
   "metadata": {
    "id": "j7jO_ata_tGB"
   },
   "source": [
    "### `---------------Mandatory Information to fill------------`"
   ]
  },
  {
   "cell_type": "markdown",
   "metadata": {
    "id": "q5BJ7jLz7afs"
   },
   "source": [
    "### Group ID: 43\n",
    "### Group Members Name with Student ID:\n",
    "1. SUBHRANSU MISHRA 2023AC05489\n",
    "2. JAWAHARLAL RAJAN S 2023AC05504\n",
    "3. SHAILESH KUMAR SINGH 2023AC05475\n",
    "4. LAKSHMISRINIVAS PERAKAM 2023AC05540\n"
   ]
  },
  {
   "cell_type": "markdown",
   "metadata": {
    "id": "YXHhoNgkAhUg"
   },
   "source": [
    "`-------------------Write your remarks (if any) that you want should get consider at the time of evaluation---------------`"
   ]
  },
  {
   "cell_type": "markdown",
   "metadata": {
    "id": "-5tK16CbA5X_"
   },
   "source": [
    "Remarks: ##Add here"
   ]
  },
  {
   "cell_type": "markdown",
   "metadata": {
    "id": "5gLNZ34yH-dO"
   },
   "source": [
    "# Background\n",
    "\n",
    "In the world of online streaming, user satisfaction and engagement are critical metrics for the success of a movie recommendation system. A well-designed recommendation algorithm can significantly enhance user experience by suggesting movies that align with their preferences, leading to higher platform retention and usage. Recommendation systems face the challenge of balancing exploration (discovering new movies) with exploitation (recommending known favourites) to maximize user satisfaction over time.\n"
   ]
  },
  {
   "cell_type": "markdown",
   "metadata": {
    "id": "z8nESwkOIE_u"
   },
   "source": [
    "# Scenario\n",
    "\n",
    "Imagine a leading online movie streaming platform, TrendMovie Inc., that aims to become the go-to destination for personalized movie recommendations. The platform features a vast collection of movies catering to diverse audiences. TrendMovie Inc. wants to optimize its recommendation strategy to deliver maximum user satisfaction while maintaining a high level of engagement. Each movie recommendation is treated as an interaction with the user, and their feedback is used to refine the recommendation strategy dynamically.\n"
   ]
  },
  {
   "cell_type": "markdown",
   "metadata": {
    "id": "I8w5a_8g-ehV"
   },
   "source": [
    "# Objective\n",
    "\n",
    "Your objective is to design and implement a recommendation system using Multi-Armed Bandit (MAB) algorithms to maximize cumulative user satisfaction. The system should dynamically allocate recommendations by learning user preferences in real-time, striking the right balance between exploration and exploitation.\n"
   ]
  },
  {
   "cell_type": "markdown",
   "metadata": {
    "id": "0v1QvKmDIVoe"
   },
   "source": [
    "# Dataset\n",
    "\n",
    "The dataset contains user ratings for a variety of movies. Key columns in the dataset include:\n",
    "*   **User ID:** A unique identifier for each user.\n",
    "*   **Movie ID:** A unique identifier for each.\n",
    "*   **Rating:** A score provided by the user for a movie (on a scale of 1 to 5).\n",
    "*   **Timestamp:** The time when the rating was given (optional for this assignment).\n",
    "\n",
    "***Link for accessing dataset:***\n",
    "https://drive.google.com/file/d/1gfobhqlVCw8Oo52JCiYpEBGhG5k7cWBr/view?usp=drive_link\n"
   ]
  },
  {
   "cell_type": "markdown",
   "metadata": {
    "id": "53dVBXmoL8aF"
   },
   "source": [
    "# Environment Details\n",
    "\n",
    "**Arms:** Each movie represents an \"arm\" in the MAB framework. The probability of a movie being liked by a user is initially unknown and will be estimated based on user feedback during the interactions.\n",
    "For example:\n",
    "\n",
    "Arm 1: Movie A\n",
    "\n",
    "Arm 2: Movie B\n",
    "\n",
    "Arm 3: Movie C\n",
    "\n",
    "... and so on, for all movies in the dataset.\n",
    "\n",
    "**Reward Function:**\n",
    "The reward function is defined based on user ratings:\n",
    "\n",
    "***Reward = 1:*** The user rates the movie high star (e.g., 4 or 5 stars).\n",
    "\n",
    "***Reward = 0:*** The user rates the movie low star (e.g., 1, 2, or 3 stars).\n",
    "\n",
    "\n",
    "**Assumptions:**\n",
    "\n",
    "Run simulations for 1000 iterations for each policy\n"
   ]
  },
  {
   "cell_type": "markdown",
   "metadata": {
    "id": "Z0whadvHOywr"
   },
   "source": [
    "# Requirements and Deliverables:\n",
    "Implement the Multi-Arm Bandit Problem for the given above scenario for all the below mentioned policy methods."
   ]
  },
  {
   "cell_type": "markdown",
   "metadata": {
    "id": "Pck-piUAHnmp"
   },
   "source": [
    "### Initialize constants"
   ]
  },
  {
   "cell_type": "code",
   "execution_count": 23,
   "metadata": {},
   "outputs": [
    {
     "name": "stdout",
     "output_type": "stream",
     "text": [
      "Requirement already satisfied: gym in /Users/jawahar/Documents/bitsMTech/sem2/drl/playground/.venv/lib/python3.12/site-packages (0.26.2)\n",
      "Requirement already satisfied: pandas in /Users/jawahar/Documents/bitsMTech/sem2/drl/playground/.venv/lib/python3.12/site-packages (2.2.3)\n",
      "Requirement already satisfied: numpy>=1.18.0 in /Users/jawahar/Documents/bitsMTech/sem2/drl/playground/.venv/lib/python3.12/site-packages (from gym) (2.2.1)\n",
      "Requirement already satisfied: cloudpickle>=1.2.0 in /Users/jawahar/Documents/bitsMTech/sem2/drl/playground/.venv/lib/python3.12/site-packages (from gym) (3.1.0)\n",
      "Requirement already satisfied: gym_notices>=0.0.4 in /Users/jawahar/Documents/bitsMTech/sem2/drl/playground/.venv/lib/python3.12/site-packages (from gym) (0.0.8)\n",
      "Requirement already satisfied: python-dateutil>=2.8.2 in /Users/jawahar/Documents/bitsMTech/sem2/drl/playground/.venv/lib/python3.12/site-packages (from pandas) (2.9.0.post0)\n",
      "Requirement already satisfied: pytz>=2020.1 in /Users/jawahar/Documents/bitsMTech/sem2/drl/playground/.venv/lib/python3.12/site-packages (from pandas) (2024.2)\n",
      "Requirement already satisfied: tzdata>=2022.7 in /Users/jawahar/Documents/bitsMTech/sem2/drl/playground/.venv/lib/python3.12/site-packages (from pandas) (2024.2)\n",
      "Requirement already satisfied: six>=1.5 in /Users/jawahar/Documents/bitsMTech/sem2/drl/playground/.venv/lib/python3.12/site-packages (from python-dateutil>=2.8.2->pandas) (1.17.0)\n"
     ]
    }
   ],
   "source": [
    "!pip install gym pandas"
   ]
  },
  {
   "cell_type": "code",
   "execution_count": 24,
   "metadata": {
    "id": "dgeqZVzXHlQE"
   },
   "outputs": [],
   "source": [
    "import random\n",
    "import numpy as np\n",
    "import pandas as pd\n",
    "import gym\n",
    "\n",
    "# Constants\n",
    "no_of_iterations = 1000\n",
    "\n",
    "seed = 0\n",
    "random.seed(seed)"
   ]
  },
  {
   "cell_type": "markdown",
   "metadata": {
    "id": "Ke_jHsCrQWG0"
   },
   "source": [
    "# Load Dataset (0.5M)"
   ]
  },
  {
   "cell_type": "code",
   "execution_count": 25,
   "metadata": {
    "id": "FSlqMVeEQa4T"
   },
   "outputs": [
    {
     "name": "stdout",
     "output_type": "stream",
     "text": [
      "Dataset Info:\n",
      "<class 'pandas.core.frame.DataFrame'>\n",
      "RangeIndex: 100836 entries, 0 to 100835\n",
      "Data columns (total 4 columns):\n",
      " #   Column     Non-Null Count   Dtype  \n",
      "---  ------     --------------   -----  \n",
      " 0   userId     100836 non-null  int64  \n",
      " 1   movieId    100836 non-null  int64  \n",
      " 2   rating     100836 non-null  float64\n",
      " 3   timestamp  100836 non-null  int64  \n",
      "dtypes: float64(1), int64(3)\n",
      "memory usage: 3.1 MB\n",
      "Total Movie count:\n",
      "9724\n",
      "\n",
      "Dataset Preview:\n",
      "   userId  movieId  rating  timestamp\n",
      "0       1        1     4.0  964982703\n",
      "1       1        3     4.0  964981247\n",
      "2       1        6     4.0  964982224\n",
      "3       1       47     5.0  964983815\n",
      "4       1       50     5.0  964982931\n",
      "\n",
      "Missing Values:\n",
      "userId       0\n",
      "movieId      0\n",
      "rating       0\n",
      "timestamp    0\n",
      "dtype: int64\n",
      "\n",
      "Summary Statistics:\n",
      "count    100836.000000\n",
      "mean          3.501557\n",
      "std           1.042529\n",
      "min           0.500000\n",
      "25%           3.000000\n",
      "50%           3.500000\n",
      "75%           4.000000\n",
      "max           5.000000\n",
      "Name: rating, dtype: float64\n",
      "\n",
      "Processed Dataset Preview:\n",
      "   userId  movieId  rating           timestamp\n",
      "0       1      804     4.0 2000-07-30 18:08:19\n",
      "1       1     1210     5.0 2000-07-30 18:08:19\n",
      "2       1     2018     5.0 2000-07-30 18:08:43\n",
      "3       1     2628     4.0 2000-07-30 18:08:43\n",
      "4       1     2826     4.0 2000-07-30 18:08:43\n"
     ]
    }
   ],
   "source": [
    "# Code for Dataset loading and print dataset statistics\n",
    "#-----write your code below this line---------\n",
    "\n",
    "\n",
    "# Data Exploration\n",
    "\n",
    "import pandas as pd\n",
    "\n",
    "# Load the dataset\n",
    "dataset = pd.read_csv(\"TrendMovie.csv\")\n",
    "\n",
    "# Display basic information about the dataset\n",
    "print(\"Dataset Info:\")\n",
    "dataset.info()\n",
    "\n",
    "print(\"Total Movie count:\")\n",
    "print(len(dataset['movieId'].unique()))\n",
    "\n",
    "# Display the first few rows of the dataset\n",
    "print(\"\\nDataset Preview:\")\n",
    "print(dataset.head())\n",
    "\n",
    "# Check for missing values\n",
    "print(\"\\nMissing Values:\")\n",
    "print(dataset.isnull().sum())\n",
    "\n",
    "# Summary statistics of the ratings\n",
    "print(\"\\nSummary Statistics:\")\n",
    "print(dataset[\"rating\"].describe())\n",
    "\n",
    "# Preprocessing\n",
    "\n",
    "# Convert timestamp to a readable format\n",
    "dataset[\"timestamp\"] = pd.to_datetime(dataset[\"timestamp\"], unit=\"s\")\n",
    "\n",
    "# Sort by user and timestamp for consistent processing\n",
    "dataset = dataset.sort_values(by=[\"userId\", \"timestamp\"]).reset_index(drop=True)\n",
    "\n",
    "print(\"\\nProcessed Dataset Preview:\")\n",
    "print(dataset.head())\n",
    "\n"
   ]
  },
  {
   "cell_type": "markdown",
   "metadata": {
    "id": "HroEzPwhQkwq"
   },
   "source": [
    "# Design a Movie Environment (0.5M)"
   ]
  },
  {
   "cell_type": "code",
   "execution_count": 26,
   "metadata": {
    "id": "Uc7EP7ZXQsn5"
   },
   "outputs": [],
   "source": [
    "import random\n",
    "import gym\n",
    "import math\n",
    "\n",
    "# Define the Movie Recommendation Environment\n",
    "class MovieRecommendationEnv(gym.Env):\n",
    "    def __init__(self, data):\n",
    "        \"\"\"\n",
    "        Initialize the environment.\n",
    "\n",
    "        Parameters:\n",
    "        - data: DataFrame containing user ratings with columns: 'userId', 'movieId', 'rating'.\n",
    "        \"\"\"\n",
    "        self.data = data\n",
    "        self.movies = data['movieId'].unique()  # Unique movie IDs\n",
    "        self.reset()  # Initialize the state\n",
    "\n",
    "    def step(self, action):\n",
    "        \"\"\"\n",
    "        Simulate a user's interaction with a selected movie (arm).\n",
    "\n",
    "        Parameters:\n",
    "        - action: The selected movie ID (arm).\n",
    "\n",
    "        Returns:\n",
    "        - state: Updated state with rewards for each movie.\n",
    "        - reward: 1 if liked, 0 otherwise.\n",
    "        - done: Always False, as this is a continuous environment.\n",
    "        - debug: None for now (can be extended for additional info).\n",
    "        \"\"\"\n",
    "        # Filter ratings for the selected movie\n",
    "        movie_ratings = self.data[self.data['movieId'] == action]['rating']\n",
    "        \n",
    "        # Use the average rating for the movie\n",
    "        if not movie_ratings.empty:\n",
    "            avg_rating = movie_ratings.mean()\n",
    "            reward = 1 if avg_rating >= 4.0 else 0  # High rating gives a reward of 1\n",
    "        else:\n",
    "            reward = 0  # Default to 0 if no ratings are available\n",
    "\n",
    "        self.state[action].append(reward)  # Update state with reward\n",
    "        done = False\n",
    "        debug = None\n",
    "        return self.state, reward, done, debug\n",
    "\n",
    "    def reset(self):\n",
    "        \"\"\"\n",
    "        Reset the environment state. Each movie starts with an empty feedback list.\n",
    "\n",
    "        Returns:\n",
    "        - state: The initial state of the environment.\n",
    "        \"\"\"\n",
    "        self.state = {movie_id: [] for movie_id in self.movies}\n",
    "        return self.state\n",
    "\n",
    "    def render(self, mode=\"ascii\"):\n",
    "        \"\"\"\n",
    "        Display statistics of user feedback for all movies.\n",
    "\n",
    "        Parameters:\n",
    "        - mode: The rendering mode (default is \"ascii\").\n",
    "        \"\"\"\n",
    "        returns = {movie_id: sum(rewards) for movie_id, rewards in self.state.items()}\n",
    "        trials = {movie_id: len(rewards) for movie_id, rewards in self.state.items()}\n",
    "        print(f'===== Total Trials: {sum(trials.values())} =====')\n",
    "        counter = 0\n",
    "        for movie_id, total_return in returns.items():\n",
    "            # print only for every 50th tried record to save size\n",
    "            total_trials = trials[movie_id]\n",
    "            counter += 1\n",
    "            if counter % 50 != 1 or total_trials <=0:\n",
    "                continue\n",
    "            print(f'Movie {movie_id} | Rewards: {total_return}, Trials: {total_trials}')\n",
    "        print(f'===== Total Rewards: {sum(returns.values())} =====')\n",
    "\n",
    "\n",
    "# Initialize the environment with the dataset\n",
    "env = MovieRecommendationEnv(dataset)"
   ]
  },
  {
   "cell_type": "markdown",
   "metadata": {
    "id": "Hvbd8vPwRMBL"
   },
   "source": [
    "# Using Random Policy (0.5M)\n",
    "Implement a random policy for movie recommendations and print each iteration. (Mandatory)"
   ]
  },
  {
   "cell_type": "code",
   "execution_count": 27,
   "metadata": {
    "id": "99WQfj3eROWc"
   },
   "outputs": [
    {
     "name": "stdout",
     "output_type": "stream",
     "text": [
      "Running Random Policy:\n",
      "===== Total Trials: 1000 =====\n",
      "Movie 2137 | Rewards: 0, Trials: 1\n",
      "Movie 109487 | Rewards: 0, Trials: 1\n",
      "Movie 540 | Rewards: 0, Trials: 1\n",
      "Movie 2072 | Rewards: 0, Trials: 2\n",
      "Movie 3633 | Rewards: 0, Trials: 1\n",
      "Movie 2358 | Rewards: 1, Trials: 1\n",
      "Movie 1672 | Rewards: 0, Trials: 1\n",
      "Movie 2155 | Rewards: 0, Trials: 1\n",
      "Movie 8376 | Rewards: 0, Trials: 1\n",
      "Movie 932 | Rewards: 0, Trials: 1\n",
      "Movie 66198 | Rewards: 0, Trials: 1\n",
      "Movie 6006 | Rewards: 0, Trials: 1\n",
      "Movie 126921 | Rewards: 1, Trials: 1\n",
      "Movie 213 | Rewards: 0, Trials: 1\n",
      "Movie 6482 | Rewards: 0, Trials: 1\n",
      "Movie 104303 | Rewards: 0, Trials: 1\n",
      "Movie 27820 | Rewards: 1, Trials: 1\n",
      "Movie 31424 | Rewards: 0, Trials: 1\n",
      "Movie 7925 | Rewards: 1, Trials: 1\n",
      "Movie 6530 | Rewards: 1, Trials: 1\n",
      "Movie 104129 | Rewards: 0, Trials: 1\n",
      "===== Total Rewards: 262 =====\n"
     ]
    }
   ],
   "source": [
    "#  run the environment with an agent that is guided by a random policy\n",
    "#-----write your code below this line---------\n",
    "\n",
    "# Random Policy Implementation\n",
    "def random_policy(env, n_rounds):\n",
    "    env.reset()\n",
    "    \n",
    "    rewards = []\n",
    "    cumulative_rewards = []\n",
    "    total_reward = 0\n",
    "    for _ in range(n_rounds):\n",
    "        arm = random.choice(env.movies)\n",
    "        _, reward, _, _ = env.step(arm)\n",
    "        rewards.append(reward)\n",
    "        total_reward += reward\n",
    "        cumulative_rewards.append(total_reward)\n",
    "    return np.mean(rewards), cumulative_rewards\n",
    "\n",
    "\n",
    "# Run the policies\n",
    "print(\"Running Random Policy:\")\n",
    "random_avg, random_cum = random_policy(env, no_of_iterations)\n",
    "# Render final statistics\n",
    "env.render()"
   ]
  },
  {
   "cell_type": "markdown",
   "metadata": {
    "id": "5t2f1AlERib1"
   },
   "source": [
    "# Using Greedy Policy (1M)\n",
    "Implement a greedy policy that always recommends the movie with the highest estimated reward and print each iteration. (Mandatory)"
   ]
  },
  {
   "cell_type": "code",
   "execution_count": 28,
   "metadata": {
    "id": "TbWz1eCbRib2"
   },
   "outputs": [
    {
     "name": "stdout",
     "output_type": "stream",
     "text": [
      "Running Greedy Policy:\n",
      "===== Total Trials: 1000 =====\n",
      "Movie 2872 | Rewards: 0, Trials: 1\n",
      "Movie 1894 | Rewards: 0, Trials: 1\n",
      "Movie 5313 | Rewards: 0, Trials: 1\n",
      "Movie 46976 | Rewards: 0, Trials: 1\n",
      "Movie 3822 | Rewards: 1, Trials: 1\n",
      "Movie 2155 | Rewards: 0, Trials: 1\n",
      "Movie 1116 | Rewards: 1, Trials: 1\n",
      "Movie 213 | Rewards: 0, Trials: 1\n",
      "Movie 5527 | Rewards: 0, Trials: 1\n",
      "Movie 1707 | Rewards: 0, Trials: 1\n",
      "Movie 3713 | Rewards: 1, Trials: 1\n",
      "Movie 3276 | Rewards: 0, Trials: 1\n",
      "Movie 68945 | Rewards: 1, Trials: 1\n",
      "Movie 5704 | Rewards: 0, Trials: 1\n",
      "Movie 112326 | Rewards: 0, Trials: 1\n",
      "===== Total Rewards: 221 =====\n"
     ]
    }
   ],
   "source": [
    "#  run the environment with an agent that is guided by a greedy policy\n",
    "#-----write your code below this line---------\n",
    "\n",
    "# Greedy Policy Implementation\n",
    "def greedy_policy(env, n_rounds):\n",
    "    \"\"\"\n",
    "    Implements the greedy policy, which selects movies with the highest average rewards based on historical data.\n",
    "    This policy exploits known rewards but may ignore exploration of less-tried options.\n",
    "    \"\"\"\n",
    "    env.reset()\n",
    "    arm_rewards = {arm: [] for arm in env.movies}\n",
    "    rewards = []\n",
    "    cumulative_rewards = []\n",
    "    total_reward = 0\n",
    "\n",
    "    for _ in range(n_rounds):\n",
    "        # This line checks whether all movies (arms) have been tried at least once by ensuring each arm's rewards list is non-empty.\n",
    "        # It ensures that the policy has sufficient historical data for all arms before computing average rewards.\n",
    "        if all(len(arm_rewards[arm]) > 0 for arm in env.movies):\n",
    "            avg_rewards = {arm: np.mean(arm_rewards[arm]) for arm in env.movies}\n",
    "            arm = max(avg_rewards, key=avg_rewards.get)\n",
    "        else:\n",
    "            arm = random.choice([arm for arm in env.movies if len(arm_rewards[arm]) == 0])\n",
    "\n",
    "        _, reward, _, _ = env.step(arm)\n",
    "        arm_rewards[arm].append(reward)\n",
    "        rewards.append(reward)\n",
    "        total_reward += reward\n",
    "        cumulative_rewards.append(total_reward)\n",
    "    \n",
    "    return np.mean(rewards), cumulative_rewards\n",
    "\n",
    "print(\"Running Greedy Policy:\")\n",
    "greedy_avg, greedy_cum = greedy_policy(env, no_of_iterations)\n",
    "# Render final statistics\n",
    "env.render()"
   ]
  },
  {
   "cell_type": "markdown",
   "metadata": {
    "id": "h65VF2JBRiph"
   },
   "source": [
    "# Using Epsilon-Greedy Policy (1.5M)\n",
    "Implement the epsilon-greedy policy, where with probability ε you explore (recommend a random movie) and with probability (1-ε) you exploit (recommend the best-known movie). Try with ε =0.1, 0.2, 0.5 and print each iteration. What value of ε yields the best performance? (Mandatory)"
   ]
  },
  {
   "cell_type": "code",
   "execution_count": 29,
   "metadata": {
    "id": "M6O9odmlRiph"
   },
   "outputs": [
    {
     "name": "stdout",
     "output_type": "stream",
     "text": [
      "Running Epsilon Greedy Policy with ε = 0.1\n",
      "===== Total Trials: 1000 =====\n",
      "Movie 804 | Rewards: 0, Trials: 7\n",
      "Movie 2358 | Rewards: 25, Trials: 25\n",
      "===== Total Rewards: 915 =====\n"
     ]
    }
   ],
   "source": [
    "#  run the environment with an agent that is guided by a epsilon-greedy policy\n",
    "#-----write your code below this line---------\n",
    "\n",
    "# Epsilon-Greedy Policy\n",
    "def epsilon_greedy_policy(env, n_rounds, epsilon):\n",
    "    env.reset()\n",
    "    arm_rewards = {arm: [] for arm in env.movies}\n",
    "    rewards = []\n",
    "    cumulative_rewards = []\n",
    "    total_reward = 0\n",
    "\n",
    "    for _ in range(n_rounds):\n",
    "        # exploration\n",
    "        # select random choices until we reach epsilon\n",
    "        if random.random() < epsilon:\n",
    "            arm = random.choice(env.movies)\n",
    "        else:\n",
    "            # select greedy option by taking the max rewarded\n",
    "            avg_rewards = {arm: np.mean(arm_rewards[arm]) if len(arm_rewards[arm]) > 0 else 0 for arm in env.movies}\n",
    "            arm = max(avg_rewards, key=avg_rewards.get)\n",
    "\n",
    "        _, reward, _, _ = env.step(arm)\n",
    "        arm_rewards[arm].append(reward)\n",
    "        rewards.append(reward)\n",
    "        total_reward += reward\n",
    "        cumulative_rewards.append(total_reward)\n",
    "\n",
    "    return np.mean(rewards), cumulative_rewards\n",
    "\n",
    "epsilon = 0.1\n",
    "print(f\"Running Epsilon Greedy Policy with ε = {epsilon}\")\n",
    "epsilon1_avg, epsilon1_cum = epsilon_greedy_policy(env, no_of_iterations, epsilon)\n",
    "# Render final statistics\n",
    "env.render()"
   ]
  },
  {
   "cell_type": "code",
   "execution_count": 30,
   "metadata": {},
   "outputs": [
    {
     "name": "stdout",
     "output_type": "stream",
     "text": [
      "Running Epsilon Greedy Policy with ε = 0.2\n",
      "===== Total Trials: 1000 =====\n",
      "Movie 804 | Rewards: 0, Trials: 29\n",
      "Movie 148626 | Rewards: 0, Trials: 1\n",
      "Movie 3985 | Rewards: 0, Trials: 1\n",
      "Movie 2846 | Rewards: 0, Trials: 1\n",
      "Movie 128991 | Rewards: 1, Trials: 1\n",
      "Movie 143896 | Rewards: 1, Trials: 1\n",
      "Movie 6269 | Rewards: 1, Trials: 1\n",
      "Movie 165343 | Rewards: 0, Trials: 1\n",
      "===== Total Rewards: 825 =====\n"
     ]
    }
   ],
   "source": [
    "epsilon = 0.2\n",
    "print(f\"Running Epsilon Greedy Policy with ε = {epsilon}\")\n",
    "epsilon2_avg, epsilon2_cum = epsilon_greedy_policy(env, no_of_iterations, epsilon)\n",
    "# Render final statistics\n",
    "env.render()"
   ]
  },
  {
   "cell_type": "code",
   "execution_count": 31,
   "metadata": {},
   "outputs": [
    {
     "name": "stdout",
     "output_type": "stream",
     "text": [
      "Running Epsilon Greedy Policy with ε = 0.5\n",
      "===== Total Trials: 1000 =====\n",
      "Movie 804 | Rewards: 0, Trials: 16\n",
      "Movie 2072 | Rewards: 0, Trials: 1\n",
      "Movie 3633 | Rewards: 0, Trials: 1\n",
      "Movie 127146 | Rewards: 0, Trials: 1\n",
      "Movie 26871 | Rewards: 0, Trials: 1\n",
      "Movie 72129 | Rewards: 0, Trials: 1\n",
      "Movie 126921 | Rewards: 2, Trials: 2\n",
      "Movie 99112 | Rewards: 0, Trials: 1\n",
      "Movie 41716 | Rewards: 0, Trials: 1\n",
      "Movie 4711 | Rewards: 1, Trials: 1\n",
      "Movie 3713 | Rewards: 1, Trials: 1\n",
      "Movie 2007 | Rewards: 0, Trials: 1\n",
      "Movie 103085 | Rewards: 0, Trials: 1\n",
      "===== Total Rewards: 599 =====\n"
     ]
    }
   ],
   "source": [
    "epsilon = 0.5\n",
    "print(f\"Running Epsilon Greedy Policy with ε = {epsilon}\")\n",
    "epsilon5_avg, epsilon5_cum = epsilon_greedy_policy(env, no_of_iterations, epsilon)\n",
    "# Render final statistics\n",
    "env.render()"
   ]
  },
  {
   "cell_type": "markdown",
   "metadata": {
    "id": "yRo-Wi17RiN2"
   },
   "source": [
    "# Using UCB (1M)\n",
    "Implement the UCB algorithm for movie recommendations and print each iteration. (Mandatory)"
   ]
  },
  {
   "cell_type": "code",
   "execution_count": 32,
   "metadata": {
    "id": "Z8nXetCeRiN8"
   },
   "outputs": [
    {
     "name": "stdout",
     "output_type": "stream",
     "text": [
      "Running UCB Policy:\n",
      "===== Total Trials: 1000 =====\n",
      "Movie 804 | Rewards: 0, Trials: 1\n",
      "Movie 2872 | Rewards: 0, Trials: 1\n",
      "Movie 1573 | Rewards: 0, Trials: 1\n",
      "Movie 2137 | Rewards: 0, Trials: 1\n",
      "Movie 1644 | Rewards: 0, Trials: 1\n",
      "Movie 109487 | Rewards: 0, Trials: 1\n",
      "Movie 538 | Rewards: 0, Trials: 1\n",
      "Movie 2282 | Rewards: 0, Trials: 1\n",
      "Movie 2763 | Rewards: 0, Trials: 1\n",
      "Movie 4252 | Rewards: 0, Trials: 1\n",
      "Movie 350 | Rewards: 0, Trials: 1\n",
      "Movie 540 | Rewards: 0, Trials: 1\n",
      "Movie 366 | Rewards: 0, Trials: 1\n",
      "Movie 354 | Rewards: 0, Trials: 1\n",
      "Movie 251 | Rewards: 0, Trials: 1\n",
      "Movie 6539 | Rewards: 0, Trials: 1\n",
      "Movie 33794 | Rewards: 0, Trials: 1\n",
      "Movie 187 | Rewards: 1, Trials: 1\n",
      "Movie 72998 | Rewards: 0, Trials: 1\n",
      "Movie 61250 | Rewards: 0, Trials: 1\n",
      "===== Total Rewards: 134 =====\n"
     ]
    }
   ],
   "source": [
    "#  run the environment with an agent that is guided by a UCB\n",
    "#-----write your code below this line---------\n",
    "\n",
    "# Upper Confidence Bound (UCB) Policy Implementation\n",
    "def ucb_policy(env, n_rounds):\n",
    "    env.reset()\n",
    "    arm_rewards = {arm: [] for arm in env.movies}\n",
    "    rewards = []\n",
    "    cumulative_rewards = []\n",
    "    total_reward = 0\n",
    "    total_counts = 0\n",
    "\n",
    "    for _ in range(n_rounds):\n",
    "        ucb_values = {}\n",
    "        for arm in env.movies:\n",
    "            if len(arm_rewards[arm]) == 0:\n",
    "                ucb_values[arm] = float('inf')\n",
    "            else:\n",
    "                avg_reward = np.mean(arm_rewards[arm])\n",
    "                ucb_values[arm] = avg_reward + math.sqrt((2 * math.log(total_counts + 1)) / len(arm_rewards[arm]))\n",
    "\n",
    "        arm = max(ucb_values, key=ucb_values.get)\n",
    "        _, reward, _, _ = env.step(arm)\n",
    "        arm_rewards[arm].append(reward)\n",
    "        rewards.append(reward)\n",
    "        total_reward += reward\n",
    "        cumulative_rewards.append(total_reward)\n",
    "        total_counts += 1\n",
    "\n",
    "    return np.mean(rewards), cumulative_rewards\n",
    "\n",
    "\n",
    "print(\"Running UCB Policy:\")\n",
    "ucb_avg, ucb_cum = ucb_policy(env, no_of_iterations)\n",
    "# Render final statistics\n",
    "env.render()"
   ]
  },
  {
   "cell_type": "markdown",
   "metadata": {
    "id": "y9QjCw5aIrBn"
   },
   "source": [
    "# Plot the cumulative rewards for all policies on a single graph to compare their performance. (0.5M)"
   ]
  },
  {
   "cell_type": "code",
   "execution_count": 33,
   "metadata": {
    "id": "J_5XxqPZI2uW"
   },
   "outputs": [
    {
     "name": "stdout",
     "output_type": "stream",
     "text": [
      "Random Policy Average Reward: 0.262\n",
      "Greedy Policy Average Reward: 0.221\n",
      "Epsilon-Greedy Policy Average Reward with ε = 0.1: 0.915\n",
      "Epsilon-Greedy Policy Average Reward with ε = 0.2: 0.825\n",
      "Epsilon-Greedy Policy Average Reward with ε = 0.5: 0.599\n",
      "UCB Policy Average Reward: 0.134\n"
     ]
    },
    {
     "data": {
      "image/png": "[encoded data removed]",
      "text/plain": [
       "<Figure size 1000x600 with 1 Axes>"
      ]
     },
     "metadata": {},
     "output_type": "display_data"
    }
   ],
   "source": [
    "#-----write your code below this line---------\n",
    "import matplotlib.pyplot as plt\n",
    "\n",
    "print(\"Random Policy Average Reward:\", random_avg)\n",
    "print(\"Greedy Policy Average Reward:\", greedy_avg)\n",
    "print(\"Epsilon-Greedy Policy Average Reward with ε = 0.1:\", epsilon1_avg)\n",
    "print(\"Epsilon-Greedy Policy Average Reward with ε = 0.2:\", epsilon2_avg)\n",
    "print(\"Epsilon-Greedy Policy Average Reward with ε = 0.5:\", epsilon5_avg)\n",
    "print(\"UCB Policy Average Reward:\", ucb_avg)\n",
    "\n",
    "# Plot cumulative rewards\n",
    "plt.figure(figsize=(10, 6))\n",
    "plt.plot(random_cum, label=\"Random Policy\")\n",
    "plt.plot(greedy_cum, label=\"Greedy Policy\")\n",
    "plt.plot(epsilon1_cum, label=\"Epsilon-Greedy Policy ε = 0.1\")\n",
    "plt.plot(epsilon2_cum, label=\"Epsilon-Greedy Policy ε = 0.2\")\n",
    "plt.plot(epsilon5_cum, label=\"Epsilon-Greedy Policy ε = 0.5\")\n",
    "plt.plot(ucb_cum, label=\"UCB Policy\")\n",
    "plt.xlabel(\"Rounds\")\n",
    "plt.ylabel(\"Cumulative Rewards\")\n",
    "plt.title(\"Cumulative Rewards Comparison\")\n",
    "plt.legend()\n",
    "plt.show()"
   ]
  },
  {
   "cell_type": "markdown",
   "metadata": {
    "id": "xOQk0LcUImEW"
   },
   "source": [
    "# Conclusion (0.5M)\n",
    "\n",
    "Determine which policy performs the best based on cumulative reward. Provide a concise conclusion (250 words) summarizing the decision-making process and the trade-offs between exploration and exploitation.\n",
    "\n",
    "`----write below this line------`"
   ]
  },
  {
   "cell_type": "markdown",
   "metadata": {
    "id": "jcdGV9-cIqli"
   },
   "source": [
    "The best-performing policy is Epsilon-Greedy with ε = 0.1, as it achieves the highest average reward by balancing exploration and exploitation effectively. The trade-off here is that too much exploration (high ε) reduces the reward, while too little exploration (greedy or UCB) leads to suboptimal solutions."
   ]
  }
 ],
 "metadata": {
  "colab": {
   "provenance": []
  },
  "kernelspec": {
   "display_name": "Python 3",
   "name": "python3"
  },
  "language_info": {
   "codemirror_mode": {
    "name": "ipython",
    "version": 3
   },
   "file_extension": ".py",
   "mimetype": "text/x-python",
   "name": "python",
   "nbconvert_exporter": "python",
   "pygments_lexer": "ipython3",
   "version": "3.12.3"
  }
 },
 "nbformat": 4,
 "nbformat_minor": 0
}
