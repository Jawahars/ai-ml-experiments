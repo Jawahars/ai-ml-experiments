{
  "cells": [
    {
      "cell_type": "markdown",
      "metadata": {},
      "source": [
        "# Financial Document Analysis with Retrieval-Augmented Generation (RAG)\n",
        "\n",
        "This Jupyter Notebook demonstrates a complete workflow for building a Q&A system from financial reports using a Retrieval-Augmented Generation (RAG) architecture. We will process Kyndryl's annual reports, build a sophisticated retrieval system, and re-rank the results for higher accuracy."
      ]
    },
    {
      "cell_type": "markdown",
      "metadata": {},
      "source": [
        "### Part 1: Data Collection & Preprocessing"
      ]
    },
    {
      "cell_type": "markdown",
      "metadata": {},
      "source": [
        "**1.1: Obtain and Ingest Financial Statements**\n",
        "\n",
        "First, we'll install the necessary libraries for our project. Then, we will download the annual reports for the last two fiscal years from the provided URLs and store them locally. This step ensures we have the raw data ready for processing."
      ]
    },
    {
      "cell_type": "code",
      "execution_count": 1,
      "metadata": {},
      "outputs": [],
      "source": [
        "# !pip install PyMuPDF sentence-transformers faiss-cpu rank_bm25 transformers pandas -q"
      ]
    },
    {
      "cell_type": "code",
      "execution_count": 2,
      "metadata": {},
      "outputs": [
        {
          "name": "stdout",
          "output_type": "stream",
          "text": [
            "annual_reports/8cd74aec-d775-4c72-8153-7e614f42cbee.pdf already exists.\n",
            "annual_reports/f63144d6-bdc5-458b-9334-08c7c43a2f4f.pdf already exists.\n"
          ]
        }
      ],
      "source": [
        "import requests\n",
        "import os\n",
        "\n",
        "# Create a directory to store the PDFs\n",
        "if not os.path.exists(\"annual_reports\"):\n",
        "    os.makedirs(\"annual_reports\")\n",
        "\n",
        "# pdf_urls = [\n",
        "#     \"https://investors.kyndryl.com/static-files/7209882b-033b-42ee-8c99-140c8deb9390\", # 2024 Annual Report\n",
        "#     \"https://investors.kyndryl.com/static-files/0205a5a1-2f59-4ab7-b892-58615604423a\"  # 2023 Annual Report\n",
        "# ]\n",
        "pdf_urls = [\n",
        "    \"https://investors.kyndryl.com/static-files/8cd74aec-d775-4c72-8153-7e614f42cbee\",  # 2024 Annual Report\n",
        "    \"https://investors.kyndryl.com/static-files/f63144d6-bdc5-458b-9334-08c7c43a2f4f\"  # 2023 Annual Report\n",
        "]\n",
        "pdf_paths=[]\n",
        "for url in pdf_urls:\n",
        "    file_name = os.path.join(\"annual_reports\", url.split(\"/\")[-1]) +'.pdf'\n",
        "    if not os.path.exists(file_name):\n",
        "        print(f\"Downloading {file_name}...\")\n",
        "        with requests.get(url, stream=True) as r:\n",
        "            r.raise_for_status()\n",
        "            with open(file_name, \"wb\") as f:\n",
        "                for chunk in r.iter_content(chunk_size=8192):\n",
        "                    f.write(chunk)\n",
        "    else:\n",
        "        print(f\"{file_name} already exists.\")\n",
        "    pdf_paths.append(file_name)\n"
      ]
    },
    {
      "cell_type": "markdown",
      "metadata": {},
      "source": [
        "**1.2: Convert Documents to Plain Text and Clean**\n",
        "\n",
        "We will use the `PyMuPDF` library to parse the downloaded PDF files and extract raw text. We will then apply a basic cleaning function to remove common artifacts like headers, footers, and extra whitespace, which are irrelevant for our Q&A task."
      ]
    },
    {
      "cell_type": "code",
      "execution_count": 3,
      "metadata": {},
      "outputs": [
        {
          "name": "stdout",
          "output_type": "stream",
          "text": [
            "Extracted text from 2 documents.\n",
            "Sample of extracted text (first 500 characters):\n",
            "  \n",
            " \n",
            " \n",
            " \n",
            "KYNDRYL REPORTS FOURTH QUARTER AND FULL-YEAR 2024 RESULTS \n",
            "• \n",
            "Revenues for the quarter ended March 31, 2024 total $3.8 billion, pretax loss is $4 \n",
            "million, net loss is $45 million, adjusted EBITDA is $566 million, and adjusted pretax \n",
            "income is $30 million \n",
            "• \n",
            "Fiscal year 2024 revenues total $16.1 billion, pretax loss is $168 million, net loss is \n",
            "$340 million, adjusted EBITDA is $2.4 billion, and adjusted pretax income is $165 \n",
            "million \n",
            "• \n",
            "Company expects to return to positive constant-\n"
          ]
        }
      ],
      "source": [
        "import fitz  # PyMuPDF\n",
        "import re\n",
        "\n",
        "def extract_and_clean_text(pdf_path):\n",
        "    doc = fitz.open(pdf_path)\n",
        "    full_text = \"\"\n",
        "    for page in doc:\n",
        "        text = page.get_text()\n",
        "        # Simple cleaning: remove page numbers that are standalone lines\n",
        "        text = re.sub(r'^\\d+\\s*$', '', text, flags=re.MULTILINE)\n",
        "        # Remove excessive newlines\n",
        "        text = re.sub(r'\\n{3,}', '\\n\\n', text)\n",
        "        full_text += text\n",
        "    doc.close()\n",
        "    return full_text\n",
        "\n",
        "documents = [extract_and_clean_text(path) for path in pdf_paths]\n",
        "print(f\"Extracted text from {len(documents)} documents.\")\n",
        "print(\"Sample of extracted text (first 500 characters):\\n\", documents[0][:500])"
      ]
    },
    {
      "cell_type": "code",
      "execution_count": 4,
      "metadata": {},
      "outputs": [
        {
          "name": "stdout",
          "output_type": "stream",
          "text": [
            "Combined text saved to annual_reports/combined_reports.txt\n"
          ]
        }
      ],
      "source": [
        "with open(\"annual_reports/combined_reports.txt\", \"w\", encoding=\"utf-8\") as f:\n",
        "    for doc in documents:\n",
        "        f.write(doc + \"\\n\\n--- End of Document ---\\n\\n\")\n",
        "print(\"Combined text saved to annual_reports/combined_reports.txt\")"
      ]
    },
    {
      "cell_type": "markdown",
      "metadata": {},
      "source": [
        "**1.3 Construct Q/A Pairs**\n",
        "\n",
        "While programmatic segmentation into financial sections like 'Income Statement' is complex, our subsequent chunking strategy will serve a similar purpose by breaking the document into manageable pieces. Below, we load the 50 manually constructed Q/A pairs into a pandas DataFrame. This will serve as our evaluation set to test the RAG system's performance."
      ]
    },
    {
      "cell_type": "code",
      "execution_count": 5,
      "metadata": {},
      "outputs": [
        {
          "data": {
            "text/html": [
              "<div>\n",
              "<style scoped>\n",
              "    .dataframe tbody tr th:only-of-type {\n",
              "        vertical-align: middle;\n",
              "    }\n",
              "\n",
              "    .dataframe tbody tr th {\n",
              "        vertical-align: top;\n",
              "    }\n",
              "\n",
              "    .dataframe thead th {\n",
              "        text-align: right;\n",
              "    }\n",
              "</style>\n",
              "<table border=\"1\" class=\"dataframe\">\n",
              "  <thead>\n",
              "    <tr style=\"text-align: right;\">\n",
              "      <th></th>\n",
              "      <th>No</th>\n",
              "      <th>Question</th>\n",
              "      <th>Answer</th>\n",
              "    </tr>\n",
              "  </thead>\n",
              "  <tbody>\n",
              "    <tr>\n",
              "      <th>0</th>\n",
              "      <td>1</td>\n",
              "      <td>What were Kyndryl's revenues for the quarter e...</td>\n",
              "      <td>$3.8 billion.</td>\n",
              "    </tr>\n",
              "    <tr>\n",
              "      <th>1</th>\n",
              "      <td>2</td>\n",
              "      <td>What was the net loss for the fourth quarter o...</td>\n",
              "      <td>$45 million.</td>\n",
              "    </tr>\n",
              "    <tr>\n",
              "      <th>2</th>\n",
              "      <td>3</td>\n",
              "      <td>What were the total revenues for the full fisc...</td>\n",
              "      <td>$16.1 billion.</td>\n",
              "    </tr>\n",
              "    <tr>\n",
              "      <th>3</th>\n",
              "      <td>4</td>\n",
              "      <td>What was the net loss for the full fiscal year...</td>\n",
              "      <td>$340 million.</td>\n",
              "    </tr>\n",
              "    <tr>\n",
              "      <th>4</th>\n",
              "      <td>5</td>\n",
              "      <td>What is Kyndryl's outlook for adjusted pretax ...</td>\n",
              "      <td>At least $435 million.</td>\n",
              "    </tr>\n",
              "  </tbody>\n",
              "</table>\n",
              "</div>"
            ],
            "text/plain": [
              "   No                                           Question  \\\n",
              "0   1  What were Kyndryl's revenues for the quarter e...   \n",
              "1   2  What was the net loss for the fourth quarter o...   \n",
              "2   3  What were the total revenues for the full fisc...   \n",
              "3   4  What was the net loss for the full fiscal year...   \n",
              "4   5  What is Kyndryl's outlook for adjusted pretax ...   \n",
              "\n",
              "                   Answer  \n",
              "0           $3.8 billion.  \n",
              "1            $45 million.  \n",
              "2          $16.1 billion.  \n",
              "3           $340 million.  \n",
              "4  At least $435 million.  "
            ]
          },
          "execution_count": 5,
          "metadata": {},
          "output_type": "execute_result"
        }
      ],
      "source": [
        "import pandas as pd\n",
        "\n",
        "# Data extracted from the Kyndryl financial reports PDF using Gemini 2.5 model\n",
        "qa_data = [\n",
        "    # Questions from 2024 Report\n",
        "    (1, \"What were Kyndryl's revenues for the quarter ended March 31, 2024?\", \"$3.8 billion.\"),\n",
        "    (2, \"What was the net loss for the fourth quarter of fiscal year 2024?\", \"$45 million.\"),\n",
        "    (3, \"What were the total revenues for the full fiscal year 2024?\", \"$16.1 billion.\"),\n",
        "    (4, \"What was the net loss for the full fiscal year 2024?\", \"$340 million.\"),\n",
        "    (5, \"What is Kyndryl's outlook for adjusted pretax income in fiscal year 2025?\", \"At least $435 million.\"),\n",
        "    (6, \"When does Kyndryl expect to return to positive constant-currency revenue growth?\", \"In the fourth quarter of the fiscal year 2025.\"),\n",
        "    (7, \"Who is the Chairman and Chief Executive Officer of Kyndryl?\", \"Martin Schroeter.\"),\n",
        "    (8, \"What was the reported year-over-year revenue decline for the fourth quarter of 2024?\", \"10% (and 9% in constant currency).\"),\n",
        "    (9, \"What was the adjusted EBITDA for the fourth quarter ended March 31, 2024?\", \"$566 million.\"),\n",
        "    (10, \"What was the adjusted pretax income for the full fiscal year 2024?\", \"$165 million, compared to an adjusted pretax loss of $217 million in the prior year.\"),\n",
        "    (11, \"How much revenue was recognized in fiscal year 2024 from cloud hyperscaler alliances?\", \"More than $500 million, which was triple the prior-year amount.\"),\n",
        "    (12, \"How many delivery professionals has the Advanced Delivery initiative helped Kyndryl redeploy as of the 2024 report?\", \"More than 9,500.\"),\n",
        "    (13, \"What are the annualized savings generated by the Advanced Delivery initiative as of year-end 2024?\", \"Approximately $575 million.\"),\n",
        "    (14, \"What was the year-over-year revenue growth for Kyndryl Consult in the fourth quarter of 2024?\", \"13% year-over-year and 15% in constant currency.\"),\n",
        "    (15, \"What is the projected revenue range for fiscal year 2025?\", \"The outlook implies fiscal 2025 revenue of $15.2 to $15.5 billion.\"),\n",
        "    (16, \"What is the forecasted adjusted EBITDA margin for fiscal year 2025?\", \"At least 16.2%, an increase of at least 150 basis points compared to 14.7% in fiscal 2024.\"),\n",
        "    (17, \"On what date did Kyndryl release its 2024 financial results?\", \"May 7, 2024.\"),\n",
        "    (18, \"What was the cash flow from operations for the fiscal year ended March 31, 2024?\", \"$454 million.\"),\n",
        "    (19, \"What was the adjusted free cash flow for fiscal year 2024?\", \"$291 million.\"),\n",
        "    (20, \"What are the 'three-A initiatives' mentioned as primary drivers for growth in the 2024 report?\", \"Alliances, Advanced Delivery and Accounts.\"),\n",
        "    (21, \"What was the total revenue for the United States segment for the year ended March 31, 2024?\", \"$4,295 million (or $4.295 billion).\"),\n",
        "    (22, \"What was the total amount of debt (short-term and long-term) as of March 31, 2024?\", \"$3,238 million (or $3.238 billion).\"),\n",
        "    (23, \"What were the capital expenditures for the year ended March 31, 2024?\", \"$651 million.\"),\n",
        "    (24, \"What was the value of 'Signings' for the full year ended March 31, 2024?\", \"$12.5 billion.\"),\n",
        "    (25, \"According to CEO Martin Schroeter in the 2024 report, what is the company's new focus for the fiscal year?\", \"The company has pivoted from transformation to growth.\"),\n",
        "\n",
        "    # Questions from 2023 Report\n",
        "    (26, \"What were Kyndryl's revenues for the quarter ended March 31, 2023?\", \"$4.3 billion. [1]\"),\n",
        "    (27, \"What was the net loss for the fourth quarter of fiscal year 2023?\", \"$737 million. [1]\"),\n",
        "    (28, \"What were the total revenues for the full fiscal year 2023?\", \"$17.0 billion. [1]\"),\n",
        "    (29, \"What was the net loss for the full fiscal year 2023?\", \"$1.4 billion. [1]\"),\n",
        "    (30, \"What was the adjusted pretax loss for the quarter ended March 31, 2023?\", \"$61 million. [1]\"),\n",
        "    (31, \"What was the adjusted EBITDA for the full fiscal year 2023?\", \"$2.0 billion. [1]\"),\n",
        "    (32, \"What was the value of contracts tied to cloud hyperscaler alliances signed in fiscal year 2023?\", \"An aggregate value of $1.2 billion, exceeding the $1 billion target. [2]\"),\n",
        "    (33, \"How many hyperscaler certifications did Kyndryl employees have at the end of fiscal year 2023?\", \"35,000, a 100% year-over-year increase. [2]\"),\n",
        "    (34, \"How many delivery professionals were redeployed as part of the Advanced Delivery initiative in fiscal year 2023?\", \"More than 5,500. [2]\"),\n",
        "    (35, \"What were the annualized savings from the Advanced Delivery initiative in fiscal year 2023?\", \"Approximately $275 million. [2]\"),\n",
        "    (36, \"What was the total impact of the Accounts initiative in annualized benefits for fiscal year 2023?\", \"Approximately $210 million of annualized benefits. [2]\"),\n",
        "    (37, \"What were the transaction-related costs for the full fiscal year 2023?\", \"$264 million. [2]\"),\n",
        "    (38, \"What were the workforce rebalancing charges recorded in the quarter ended March 31, 2023?\", \"$55 million. [2]\"),\n",
        "    (39, \"What is the implied fiscal 2024 revenue outlook based on the 2023 report?\", \"$16.0 to $16.4 billion. [2]\"),\n",
        "    (40, \"What was the outlook for the adjusted EBITDA margin for fiscal year 2024?\", \"12% to 13%. [2]\"),\n",
        "    (41, \"What was the adjusted free cash flow for the fiscal year ended March 31, 2023?\", \"$352 million. [1]\"),\n",
        "    (42, \"On what date did Kyndryl release its 2023 financial results?\", \"May 16, 2023. [1]\"),\n",
        "    (43, \"Who is the Chief Financial Officer of Kyndryl mentioned in the 2023 report?\", \"David Wyshner. [2]\"),\n",
        "    (44, \"What was the cash flow from operations for the fiscal year ended March 31, 2023?\", \"$781 million. [1]\"),\n",
        "    (45, \"What was the adjusted pretax loss for the full fiscal year 2023?\", \"$217 million. [1]\"),\n",
        "    (46, \"What were the expected cumulative annualized benefits from the Accounts initiative by March 2024?\", \"Approximately $400 million.\"),\n",
        "    (47, \"What was the year-over-year decline in revenue for fiscal year 2023?\", \"A decline of 7%, or unchanged in constant currency. [1]\"),\n",
        "    (48, \"What was the total amount of debt (short-term and long-term) as of March 31, 2023?\", \"$3,221 million (or $3.221 billion).\"),\n",
        "    (49, \"What were the capital expenditures for the year ended March 31, 2023?\", \"$865 million.\"),\n",
        "    (50, \"What was the value of 'Signings' for the year ended March 31, 2023?\", \"$12.2 billion.\")\n",
        "]\n",
        "\n",
        "# Create the DataFrame\n",
        "df = pd.DataFrame(qa_data, columns=['No', 'Question', 'Answer'])\n",
        "df.to_csv(\"annual_reports/kyndryl_qa_data.csv\", index=False)\n",
        "# Display the DataFrame\n",
        "df.head()"
      ]
    },
    {
      "cell_type": "markdown",
      "metadata": {},
      "source": [
        "### Part 2: Retrieval-Augmented Generation (RAG) System Implementation"
      ]
    },
    {
      "cell_type": "markdown",
      "metadata": {},
      "source": [
        "**2.1 Data Processing: Chunking**\n",
        "\n",
        "To prepare the text for retrieval, we'll split it into smaller, manageable chunks. This allows the model to find more specific and relevant passages. We will create two sets of chunks with different sizes (100 and 400 tokens) to analyze the impact of chunk size on retrieval performance. Each chunk will be assigned a unique ID and metadata indicating its source document and chunk size."
      ]
    },
    {
      "cell_type": "code",
      "execution_count": 6,
      "metadata": {},
      "outputs": [
        {
          "name": "stderr",
          "output_type": "stream",
          "text": [
            "/Users/jawahar/Documents/playground/RAG/.venv/lib/python3.12/site-packages/tqdm/auto.py:21: TqdmWarning: IProgress not found. Please update jupyter and ipywidgets. See https://ipywidgets.readthedocs.io/en/stable/user_install.html\n",
            "  from .autonotebook import tqdm as notebook_tqdm\n",
            "Token indices sequence length is longer than the specified maximum sequence length for this model (6349 > 512). Running this sequence through the model will result in indexing errors\n"
          ]
        },
        {
          "name": "stdout",
          "output_type": "stream",
          "text": [
            "Total number of chunks created: 148\n",
            "Sample chunk: {'id': 'doc_0_size_100_chunk_0', 'text': 'kyndryl reports fourth quarter and full - year 2024 results • revenues for the quarter ended march 31, 2024 total $ 3. 8 billion, pretax loss is $ 4 million, net loss is $ 45 million, adjusted ebitda is $ 566 million, and adjusted pretax income is $ 30 million • fiscal year 2024 revenues total $ 16. 1 billion, pretax loss is $ 168 million, net loss is $ 340 million, adjusted ebit', 'metadata': {'doc_id': 'doc_0_size_100', 'chunk_size': 100}}\n"
          ]
        }
      ],
      "source": [
        "from transformers import AutoTokenizer\n",
        "\n",
        "model_name = \"sentence-transformers/all-MiniLM-L6-v2\"\n",
        "tokenizer = AutoTokenizer.from_pretrained(model_name)\n",
        "\n",
        "def chunk_text(text, chunk_size, doc_id):\n",
        "    tokens = tokenizer.encode(text)\n",
        "    chunks = []\n",
        "    for i in range(0, len(tokens), chunk_size):\n",
        "        chunk_tokens = tokens[i:i + chunk_size]\n",
        "        chunk_text = tokenizer.decode(chunk_tokens, skip_special_tokens=True)\n",
        "        chunks.append({\n",
        "            \"id\": f\"{doc_id}_chunk_{len(chunks)}\",\n",
        "            \"text\": chunk_text,\n",
        "            \"metadata\": {\"doc_id\": doc_id, \"chunk_size\": chunk_size}\n",
        "        })\n",
        "    return chunks\n",
        "\n",
        "chunk_sizes = [100, 400]\n",
        "all_chunks = []\n",
        "for size in chunk_sizes:\n",
        "    for i, doc_text in enumerate(documents):\n",
        "        all_chunks.extend(chunk_text(doc_text, size, f\"doc_{i}_size_{size}\"))\n",
        "\n",
        "print(f\"Total number of chunks created: {len(all_chunks)}\")\n",
        "print(\"Sample chunk:\", all_chunks[0])"
      ]
    },
    {
      "cell_type": "markdown",
      "metadata": {},
      "source": [
        "**2.2 Embedding & Indexing**\n",
        "\n",
        "Next, we will convert the text chunks into numerical vectors (embeddings) using the `all-MiniLM-L6-v2` model. These embeddings capture the semantic meaning of the text.\n",
        "\n",
        "We will build two types of indexes:\n",
        "1.  **Dense Vector Store (FAISS):** For fast semantic similarity search.\n",
        "2.  **Sparse Index (BM25):** For efficient keyword-based retrieval."
      ]
    },
    {
      "cell_type": "code",
      "execution_count": 7,
      "metadata": {},
      "outputs": [
        {
          "name": "stderr",
          "output_type": "stream",
          "text": [
            "Batches:   0%|          | 0/5 [00:00<?, ?it/s]huggingface/tokenizers: The current process just got forked, after parallelism has already been used. Disabling parallelism to avoid deadlocks...\n",
            "To disable this warning, you can either:\n",
            "\t- Avoid using `tokenizers` before the fork if possible\n",
            "\t- Explicitly set the environment variable TOKENIZERS_PARALLELISM=(true | false)\n",
            "Batches: 100%|██████████| 5/5 [00:00<00:00,  6.50it/s]"
          ]
        },
        {
          "name": "stdout",
          "output_type": "stream",
          "text": [
            "FAISS index built with 148 vectors.\n",
            "BM25 index built.\n"
          ]
        },
        {
          "name": "stderr",
          "output_type": "stream",
          "text": [
            "\n"
          ]
        }
      ],
      "source": [
        "from sentence_transformers import SentenceTransformer\n",
        "import faiss\n",
        "import numpy as np\n",
        "from rank_bm25 import BM25Okapi\n",
        "\n",
        "# 1. Embed Chunks\n",
        "embedding_model = SentenceTransformer(model_name)\n",
        "chunk_texts = [chunk['text'] for chunk in all_chunks]\n",
        "embeddings = embedding_model.encode(chunk_texts, convert_to_numpy=True, show_progress_bar=True)\n",
        "\n",
        "# 2. Build Dense Vector Store (FAISS)\n",
        "embedding_dim = embeddings.shape[1]\n",
        "faiss_index = faiss.IndexFlatL2(embedding_dim)\n",
        "faiss_index.add(np.array(embeddings, dtype=np.float32))\n",
        "print(f\"FAISS index built with {faiss_index.ntotal} vectors.\")\n",
        "\n",
        "# 3. Build Sparse Index (BM25)\n",
        "tokenized_corpus = [doc.lower().split(\" \") for doc in chunk_texts]\n",
        "bm25 = BM25Okapi(tokenized_corpus)\n",
        "print(\"BM25 index built.\")"
      ]
    },
    {
      "cell_type": "markdown",
      "metadata": {},
      "source": [
        "**2.3 Hybrid Retrieval Pipeline**\n",
        "\n",
        "Our retrieval pipeline will combine the strengths of both dense and sparse methods. For a given query, we will:\n",
        "1. Preprocess the query.\n",
        "2. Retrieve the top N chunks from FAISS based on vector similarity.\n",
        "3. Retrieve the top N chunks from BM25 based on keyword matching.\n",
        "4. Combine the results using a simple union to create a comprehensive list of candidate chunks."
      ]
    },
    {
      "cell_type": "code",
      "execution_count": 8,
      "metadata": {},
      "outputs": [],
      "source": [
        "def preprocess_query(query):\n",
        "    return query.lower()\n",
        "\n",
        "def hybrid_retrieve(query, top_n=5):\n",
        "    # 1. Preprocess query\n",
        "    clean_query = preprocess_query(query)\n",
        "    \n",
        "    # 2. Dense Retrieval (FAISS)\n",
        "    query_embedding = embedding_model.encode([clean_query])\n",
        "    _, dense_indices = faiss_index.search(np.array(query_embedding, dtype=np.float32), top_n)\n",
        "    dense_results = [all_chunks[i] for i in dense_indices[0]]\n",
        "    \n",
        "    # 3. Sparse Retrieval (BM25)\n",
        "    tokenized_query = clean_query.split(\" \")\n",
        "    bm25_scores = bm25.get_scores(tokenized_query)\n",
        "    sparse_indices = np.argsort(bm25_scores)[::-1][:top_n]\n",
        "    sparse_results = [all_chunks[i] for i in sparse_indices]\n",
        "    \n",
        "    # 4. Combine results\n",
        "    combined_results_dict = {chunk['id']: chunk for chunk in dense_results + sparse_results}\n",
        "    \n",
        "    print(f\"Retrieved {len(dense_results)} chunks from dense search.\")\n",
        "    print(f\"Retrieved {len(sparse_results)} chunks from sparse search.\")\n",
        "    print(f\"Combined to {len(combined_results_dict)} unique chunks.\")\n",
        "    \n",
        "    return list(combined_results_dict.values())"
      ]
    },
    {
      "cell_type": "code",
      "execution_count": 9,
      "metadata": {},
      "outputs": [
        {
          "name": "stdout",
          "output_type": "stream",
          "text": [
            "Retrieved 5 chunks from dense search.\n",
            "Retrieved 5 chunks from sparse search.\n",
            "Combined to 10 unique chunks.\n",
            "\n",
            "--- Top Retrieved Chunk for 'What was the company's revenue in 2024?' ---\n",
            "to march 2024 : revenue growth of ( 6 % ) to ( 8 % ) in constant currency compared to revenue of $ 17. 0 billion in fiscal 2023, with most of the decline due to accelerated actions by kyndryl to reduce certain low - margin revenue streams. based on recent exchange rates, the company ’ s outlook implies fiscal 2024 revenue of $ 16. 0 to $ 16. 4 billion. the company continues to expect to return to positive revenue growth in calendar year 2025\n"
          ]
        }
      ],
      "source": [
        "# Example Usage\n",
        "test_query = \"What was the company's revenue in 2024?\"\n",
        "retrieved_chunks = hybrid_retrieve(test_query)\n",
        "\n",
        "print(f\"\\n--- Top Retrieved Chunk for '{test_query}' ---\")\n",
        "print(retrieved_chunks[0]['text'])"
      ]
    },
    {
      "cell_type": "markdown",
      "metadata": {},
      "source": [
        "**2.4 Advanced RAG Technique: Cross-Encoder Re-ranking**\n",
        "\n",
        "The initial retrieval might return chunks that are only partially relevant. To refine our results, we'll use a Cross-Encoder model. Unlike the embedding model which computes vectors independently, a Cross-Encoder takes both the query and a candidate chunk as input to produce a more accurate relevance score. We will use this to re-rank the top chunks retrieved from our hybrid pipeline."
      ]
    },
    {
      "cell_type": "code",
      "execution_count": 23,
      "metadata": {},
      "outputs": [],
      "source": [
        "from sentence_transformers.cross_encoder import CrossEncoder\n",
        "\n",
        "# Load a cross-encoder model\n",
        "cross_encoder = CrossEncoder('cross-encoder/ms-marco-MiniLM-L-6-v2')\n",
        "\n",
        "def rerank_with_cross_encoder(query, chunks):\n",
        "    # Create pairs of [query, chunk_text] for scoring\n",
        "    query_chunk_pairs = [[query, chunk['text']] for chunk in chunks]\n",
        "    \n",
        "    # Get scores from the cross-encoder\n",
        "    scores = cross_encoder.predict(query_chunk_pairs, show_progress_bar=False)\n",
        "    \n",
        "    # Add scores to chunks and sort\n",
        "    for i in range(len(chunks)):\n",
        "        chunks[i]['relevance_score'] = scores[i]\n",
        "        \n",
        "    reranked_chunks = sorted(chunks, key=lambda x: x['relevance_score'], reverse=True)\n",
        "    return reranked_chunks\n",
        "\n",
        "\n",
        "def advanced_retrieve(query):\n",
        "    retrieved_chunks = hybrid_retrieve(query)\n",
        "    reranked_results = rerank_with_cross_encoder(query, retrieved_chunks)\n",
        "    return reranked_results"
      ]
    },
    {
      "cell_type": "code",
      "execution_count": 24,
      "metadata": {},
      "outputs": [
        {
          "name": "stdout",
          "output_type": "stream",
          "text": [
            "Retrieved 5 chunks from dense search.\n",
            "Retrieved 5 chunks from sparse search.\n",
            "Combined to 10 unique chunks.\n",
            "\n",
            "--- Top Re-ranked Chunk for 'What was the company's revenue in 2024?' ---\n",
            "Relevance Score: 8.2950\n",
            "to march 2024 : revenue growth of ( 6 % ) to ( 8 % ) in constant currency compared to revenue of $ 17. 0 billion in fiscal 2023, with most of the decline due to accelerated actions by kyndryl to reduce certain low - margin revenue streams. based on recent exchange rates, the company ’ s outlook implies fiscal 2024 revenue of $ 16. 0 to $ 16. 4 billion. the company continues to expect to return to positive revenue growth in calendar year 2025\n"
          ]
        }
      ],
      "source": [
        "# Example Usage with the same test query\n",
        "test_query = \"What was the company's revenue in 2024?\"\n",
        "reranked_results = advanced_retrieve(test_query)\n",
        "print(f\"\\n--- Top Re-ranked Chunk for '{test_query}' ---\")\n",
        "print(f\"Relevance Score: {reranked_results[0]['relevance_score']:.4f}\")\n",
        "print(reranked_results[0]['text'])"
      ]
    },
    {
      "cell_type": "markdown",
      "metadata": {},
      "source": [
        "**2.5 Response Generation**\n",
        "\n",
        "After retrieving and re-ranking the most relevant document chunks, the final step is to generate a coherent, human-readable answer. We will use a generative language model to synthesize the information from the retrieved passages into a direct response to the user's query. \n",
        "\n",
        "For this demonstration, we'll use `DistilGPT-2`, a smaller and more efficient version of GPT-2, which is suitable for tasks where resource constraints are a consideration. The retrieved text and the original query are combined into a carefully crafted prompt to guide the model in generating a factual answer grounded in the provided context."
      ]
    },
    {
      "cell_type": "code",
      "execution_count": null,
      "metadata": {},
      "outputs": [
        {
          "name": "stdout",
          "output_type": "stream",
          "text": [
            "Device set to use mps (Apple Silicon GPU)\n"
          ]
        },
        {
          "name": "stderr",
          "output_type": "stream",
          "text": [
            "Device set to use mps:0\n"
          ]
        }
      ],
      "source": [
        "from transformers import AutoModelForSeq2SeqLM, AutoTokenizer, pipeline\n",
        "\n",
        "# --- Configuration ---\n",
        "# Using google/flan-t5-base is a good balance for an 8GB M2 Mac.\n",
        "# 'small' is faster but less accurate; 'large' may run out of memory.\n",
        "model_name = \"google/flan-t5-base\"\n",
        "\n",
        "# --- Model and Tokenizer Loading ---\n",
        "# Load the model and tokenizer, sending the model to the specified device\n",
        "try:\n",
        "    gen_tokenizer = AutoTokenizer.from_pretrained(model_name)\n",
        "    gen_model = AutoModelForSeq2SeqLM.from_pretrained(model_name)\n",
        "except Exception as e:\n",
        "    print(f\"Error loading model: {e}\")\n",
        "    print(\"Please ensure you have a stable internet connection.\")\n",
        "    exit()\n",
        "\n",
        "# --- Initialize Pipeline ---\n",
        "# Initialize the pipeline once for efficiency, specifying the correct task and device\n",
        "# For MPS, device=0 is the standard way to reference the first MPS device.\n",
        "nlp_pipeline = pipeline(\n",
        "    \"text2text-generation\",\n",
        "    model=gen_model,\n",
        "    tokenizer=gen_tokenizer,\n",
        ")\n",
        "\n",
        "def generate_answer(query, reranked_chunks, max_new_tokens=100):\n",
        "    \"\"\"\n",
        "    Generates an answer using the Flan-T5 model based on the retrieved chunks.\n",
        "    \"\"\"\n",
        "    # 1. Prepare the context from the top 3 reranked chunks\n",
        "    context = \"\\n\\n\".join([chunk.get(\"text\", \"\") for chunk in reranked_chunks[:3]])\n",
        "\n",
        "    # 2. Create a prompt suitable for Flan-T5\n",
        "    # This instruction-based format works well for this model family.\n",
        "    prompt = f\"\"\"\n",
        "Based on the following context, please answer the question.\n",
        "\n",
        "Context:\n",
        "{context}\n",
        "\n",
        "Question:\n",
        "{query}\n",
        "\n",
        "Answer:\n",
        "\"\"\"\n",
        "\n",
        "    # 3. Generate the answer using the pre-initialized pipeline\n",
        "    # The pipeline handles tokenization, truncation, and moving data to the MPS device.\n",
        "    generated_output = nlp_pipeline(\n",
        "        prompt,\n",
        "        max_length=512,  # Set a max_length for the input+output\n",
        "        max_new_tokens=max_new_tokens,  # Control the max length of the generated answer\n",
        "        num_return_sequences=1,\n",
        "    )\n",
        "\n",
        "    # 4. Extract and clean the answer text\n",
        "    # The output from a 'text2text-generation' pipeline is cleaner.\n",
        "    answer = generated_output[0][\"generated_text\"].strip()\n",
        "\n",
        "    return answer"
      ]
    },
    {
      "cell_type": "code",
      "execution_count": 31,
      "metadata": {},
      "outputs": [
        {
          "name": "stdout",
          "output_type": "stream",
          "text": [
            "Retrieved 5 chunks from dense search.\n",
            "Retrieved 5 chunks from sparse search.\n",
            "Combined to 10 unique chunks.\n"
          ]
        },
        {
          "name": "stderr",
          "output_type": "stream",
          "text": [
            "Both `max_new_tokens` (=100) and `max_length`(=512) seem to have been set. `max_new_tokens` will take precedence. Please refer to the documentation for more information. (https://huggingface.co/docs/transformers/main/en/main_classes/text_generation)\n"
          ]
        },
        {
          "name": "stdout",
          "output_type": "stream",
          "text": [
            "-----\n",
            "to march 2024 : revenue growth of ( 6 % ) to ( 8 % ) in constant currency compared to revenue of $ 17. 0 billion in fiscal 2023, with most of the decline due to accelerated actions by kyndryl to reduce certain low - margin revenue streams. based on recent exchange rates, the company ’ s outlook implies fiscal 2024 revenue of $ 16. 0 to $ 16. 4 billion. the company continues to expect to return to positive revenue growth in calendar year 2025\n",
            "-----\n",
            "kyndryl reports fourth quarter and full - year 2024 results • revenues for the quarter ended march 31, 2024 total $ 3. 8 billion, pretax loss is $ 4 million, net loss is $ 45 million, adjusted ebitda is $ 566 million, and adjusted pretax income is $ 30 million • fiscal year 2024 revenues total $ 16. 1 billion, pretax loss is $ 168 million, net loss is $ 340 million, adjusted ebit\n",
            "-----\n",
            "to march 2025 : • revenue growth of ( 2 % ) to ( 4 % ) in constant currency compared to revenue of $ 16. 1 billion in fiscal 2024, which reflects actions by kyndryl to reduce certain inherited zero - margin and low - margin revenue streams. based on recent exchange rates, the company ’ s outlook implies fiscal 2025 revenue of $ 15. 2 to $ 15. 5 billion. the company now expects to deliver year - over - year constant - currency revenue growth\n",
            "-----\n",
            "in constant currency. for fiscal year 2024, kyndryl consult revenues grew 15 % year - over - year and 16 % in constant currency, and kyndryl consult signings grew 18 % year - over - year and 18 % in constant currency, including year - over - year growth of 26 % and 30 % in constant currency, in the fourth quarter. fiscal year 2025 outlook kyndryl is providing the following outlook for its fiscal year 2025, which runs from april 2024\n",
            "-----\n",
            "kyndryl reports fourth quarter and full - year 2024 results • revenues for the quarter ended march 31, 2024 total $ 3. 8 billion, pretax loss is $ 4 million, net loss is $ 45 million, adjusted ebitda is $ 566 million, and adjusted pretax income is $ 30 million • fiscal year 2024 revenues total $ 16. 1 billion, pretax loss is $ 168 million, net loss is $ 340 million, adjusted ebitda is $ 2. 4 billion, and adjusted pretax income is $ 165 million • company expects to return to positive constant - currency revenue growth in the fourth quarter and provides outlook for at least $ 435 million of adjusted pretax income in fiscal year 2025 new york, may 7, 2024 – kyndryl holdings, inc. ( nyse : kd ), the world ’ s largest it infrastructure services provider, today released financial results for the quarter ended march 31, 2024, the fourth quarter of its 2024 fiscal year. “ fiscal 2024 was a year of acceleration and achievement for kyndryl, driven by contributions from employees around the world. as we start our new fiscal year, we have pivoted from transformation to growth. our strategic progress, our strong growth in kyndryl consult and our expansion of our kyndryl bridge operating platform solidify our leadership position in mission - critical it services, while also driving meaningful financial progress, ” said kyndryl chairman and chief executive officer martin schroeter. “ going forward, we ’ ll continue to execute our strategy to fuel earnings growth, and we ’ re now targeting an earlier return to revenue growth, in the fourth quarter of this fiscal year. ” results for the fiscal fourth quarter ended march 31, 2024 for the fourth quarter, kyndryl reported revenues of $ 3. 8 billion, a year - over - year decline of 10 % and 9 % in constant currency. the\n",
            "-----\n",
            "##4, the fourth quarter of its 2024 fiscal year. “ fiscal 2024 was a year of acceleration and achievement for kyndryl, driven by contributions from employees around the world. as we start our new fiscal year, we have pivoted from transformation to growth. our strategic progress, our strong growth in kyndryl consult and our expansion of our kyndryl bridge operating platform solidify our leadership position in mission - critical it services, while also driving meaningful financial progress, ” said ky\n",
            "-----\n",
            "$ 500 million. • strong projected margin on recent signings – the company has substantially increased the projected pretax margins associated with its signings. throughout fiscal 2023 and 2024, such margins have been in the high - single - digit range, which is approximately ten percentage points above its fiscal 2023 adjusted pretax margin. • double - digit growth in kyndryl consult – in the fourth quarter, kyndryl consult revenues grew 13 % year - over - year and 15 % in constant currency. for fiscal year 2024, kyndryl consult revenues grew 15 % year - over - year and 16 % in constant currency, and kyndryl consult signings grew 18 % year - over - year and 18 % in constant currency, including year - over - year growth of 26 % and 30 % in constant currency, in the fourth quarter. fiscal year 2025 outlook kyndryl is providing the following outlook for its fiscal year 2025, which runs from april 2024 to march 2025 : • revenue growth of ( 2 % ) to ( 4 % ) in constant currency compared to revenue of $ 16. 1 billion in fiscal 2024, which reflects actions by kyndryl to reduce certain inherited zero - margin and low - margin revenue streams. based on recent exchange rates, the company ’ s outlook implies fiscal 2025 revenue of $ 15. 2 to $ 15. 5 billion. the company now expects to deliver year - over - year constant - currency revenue growth in the fourth quarter of the fiscal year. • adjusted ebitda margin of at least 16. 2 %, an increase of at least 150 basis points compared to 14. 7 % in fiscal 2024, reflecting incremental benefits from the three - a initiatives. • adjusted pretax income of at least $ 435 million, an increase of at least $ 270 million compared to $ 165 million in fiscal 2024. • conversion of adjusted pretax income ( less cash taxes ) to adjusted\n",
            "-----\n",
            "##balancing and lease - exit costs – kyndryl recorded workforce rebalancing charges of $ 55 million in the quarter ended march 31, 2023 and expects to incur additional charges of approximately $ 95 million in fiscal year 2024 related to actions to rebalance its employee population and drive efficiencies. these actions are expected to produce cost savings of approximately $ 150 million in fiscal year 2024 and $ 200 million in fiscal year 2025, most of which are incremental to the benefits from the three - a initiatives. the company also recorded costs related to ceasing to use leased and fixed assets of $ 70 million for the quarter and $ 80 million for the year ended march 31, 2023. the full or partial exit from more than 50 sites is expected to produce cost savings of approximately $ 50 million in fiscal year 2024. fiscal year 2024 outlook kyndryl is providing the following outlook for its fiscal year 2024, which runs from april 2023 to march 2024 : revenue growth of ( 6 % ) to ( 8 % ) in constant currency compared to revenue of $ 17. 0 billion in fiscal 2023, with most of the decline due to accelerated actions by kyndryl to reduce certain low - margin revenue streams. based on recent exchange rates, the company ’ s outlook implies fiscal 2024 revenue of $ 16. 0 to $ 16. 4 billion. the company continues to expect to return to positive revenue growth in calendar year 2025. adjusted ebitda margin of 12 % to 13 %, an increase of 40 to 140 basis points compared to 11. 6 % in fiscal 2023. adjusted pretax margin of 0 % to ( 1 % ), an increase of 30 to 130 basis points compared to ( 1. 3 % ) in fiscal 2023. the company also expects to deliver continued progress on its three - a initiatives : revenue related to cloud hyperscaler alliances of more than $ 300 million. cumulative annualized\n",
            "-----\n",
            "to the benefits from the three - a initiatives. the company also recorded costs related to ceasing to use leased and fixed assets of $ 70 million for the quarter and $ 80 million for the year ended march 31, 2023. the full or partial exit from more than 50 sites is expected to produce cost savings of approximately $ 50 million in fiscal year 2024. fiscal year 2024 outlook kyndryl is providing the following outlook for its fiscal year 2024, which runs from april 2023\n",
            "-----\n",
            "##ndryl chairman and chief executive officer martin schroeter. “ going forward, we ’ ll continue to execute our strategy to fuel earnings growth, and we ’ re now targeting an earlier return to revenue growth, in the fourth quarter of this fiscal year. ” results for the fiscal fourth quarter ended march 31, 2024 for the fourth quarter, kyndryl reported revenues of $ 3. 8 billion, a year - over - year decline of 10 % and 9 % in constant currency. the\n",
            "Question: What is fiscal year 2024 revenue?\n",
            "\n",
            "Generated Answer:\n",
            "$ 16. 0 to $ 16. 4 billion\n"
          ]
        }
      ],
      "source": [
        "test_query = \"What is fiscal year 2024 revenue?\"\n",
        "\n",
        "reranked_results = advanced_retrieve(test_query)\n",
        "\n",
        "\n",
        "for r in reranked_results:\n",
        "    print('-----')\n",
        "    print(r['text'])\n",
        "\n",
        "# Example Usage\n",
        "final_answer = generate_answer(test_query, reranked_results)\n",
        "\n",
        "print(f\"Question: {test_query}\")\n",
        "print(f\"\\nGenerated Answer:\\n{final_answer}\")"
      ]
    },
    {
      "cell_type": "markdown",
      "metadata": {},
      "source": [
        "**2.6 Guardrail Implementation**\n",
        "\n",
        "To ensure the reliability and safety of our RAG system, we need to implement guardrails. These are checks and balances that prevent the system from processing inappropriate queries or generating harmful, irrelevant, or factually incorrect answers. We will implement two basic guardrails:\n",
        "\n",
        "1.  **Input Guardrail:** A simple filter to block off-topic or nonsensical questions.\n",
        "2.  **Output Guardrail:** A check to ensure the generated answer is grounded in the retrieved context and not a hallucination."
      ]
    },
    {
      "cell_type": "code",
      "execution_count": 14,
      "metadata": {},
      "outputs": [
        {
          "name": "stdout",
          "output_type": "stream",
          "text": [
            "--- Input Guardrail Tests ---\n",
            "Query: 'What were the total assets of Kyndryl as of March 31, 2024?' -> Valid: True, Reason: Query is valid.\n",
            "Query: 'revenue?' -> Valid: False, Reason: Query is too short. Please ask a more specific question.\n",
            "Query: 'Can you give me a recipe for a cake?' -> Valid: False, Reason: Query is off-topic. This system is for financial document analysis.\n",
            "\n",
            "==================================================\n",
            "\n",
            "--- Output Guardrail Tests ---\n",
            "Answer: 'answer the question based on the context.\n",
            "\n",
            "context: to march 2024 : revenue growth of ( 6 % ) to ( 8...' -> Grounded: True, Reason: Answer appears grounded in context (Overlap: 80.29%).\n",
            "Answer: 'Kyndryl announced a partnership with SpaceX to build datacenters on Mars.' -> Grounded: True, Reason: Answer appears grounded in context (Overlap: 45.45%).\n"
          ]
        }
      ],
      "source": [
        "# --- Input Guardrail ---\n",
        "\n",
        "def validate_query(query):\n",
        "    \"\"\"\n",
        "    Validates the input query to filter out irrelevant or harmful inputs.\n",
        "    \"\"\"\n",
        "    query = query.lower()\n",
        "    \n",
        "    # Check for minimum length\n",
        "    if len(query.split()) < 3:\n",
        "        return False, \"Query is too short. Please ask a more specific question.\"\n",
        "        \n",
        "    # Basic check for off-topic keywords\n",
        "    off_topic_keywords = ['recipe', 'poem', 'joke', 'movie', 'celebrity']\n",
        "    if any(keyword in query for keyword in off_topic_keywords):\n",
        "        return False, \"Query is off-topic. This system is for financial document analysis.\"\n",
        "\n",
        "    return True, \"Query is valid.\"\n",
        "\n",
        "# --- Output Guardrail ---\n",
        "\n",
        "def validate_output(answer, retrieved_chunks):\n",
        "    \"\"\"\n",
        "    Validates the generated output to flag potential hallucinations.\n",
        "    This is a simple check based on keyword overlap.\n",
        "    \"\"\"\n",
        "    context = \" \".join([chunk['text'].lower() for chunk in retrieved_chunks])\n",
        "    answer_tokens = set(answer.lower().split())\n",
        "    context_tokens = set(context.split())\n",
        "    \n",
        "    if not answer_tokens:\n",
        "        return False, \"Generated answer is empty.\"\n",
        "\n",
        "    # Calculate the percentage of answer tokens that are present in the context\n",
        "    overlap = answer_tokens.intersection(context_tokens)\n",
        "    overlap_ratio = len(overlap) / len(answer_tokens)\n",
        "    \n",
        "    # If overlap is less than a certain threshold (e.g., 30%), flag it as potentially ungrounded.\n",
        "    if overlap_ratio < 0.3:\n",
        "        return False, f\"Potential hallucination detected. Answer may not be grounded in context (Overlap: {overlap_ratio:.2%}).\"\n",
        "        \n",
        "    return True, f\"Answer appears grounded in context (Overlap: {overlap_ratio:.2%}).\"\n",
        "\n",
        "\n",
        "# --- Example Usage of Guardrails ---\n",
        "\n",
        "# 1. Input Guardrail Examples\n",
        "print(\"--- Input Guardrail Tests ---\")\n",
        "valid_query = \"What were the total assets of Kyndryl as of March 31, 2024?\"\n",
        "invalid_query_short = \"revenue?\"\n",
        "invalid_query_topic = \"Can you give me a recipe for a cake?\"\n",
        "\n",
        "is_valid, reason = validate_query(valid_query)\n",
        "print(f\"Query: '{valid_query}' -> Valid: {is_valid}, Reason: {reason}\")\n",
        "\n",
        "is_valid, reason = validate_query(invalid_query_short)\n",
        "print(f\"Query: '{invalid_query_short}' -> Valid: {is_valid}, Reason: {reason}\")\n",
        "\n",
        "is_valid, reason = validate_query(invalid_query_topic)\n",
        "print(f\"Query: '{invalid_query_topic}' -> Valid: {is_valid}, Reason: {reason}\")\n",
        "\n",
        "print(\"\\n\" + \"=\"*50 + \"\\n\")\n",
        "\n",
        "# 2. Output Guardrail Example\n",
        "print(\"--- Output Guardrail Tests ---\")\n",
        "# Use the previously generated answer\n",
        "is_grounded, reason = validate_output(final_answer, reranked_results)\n",
        "print(f\"Answer: '{final_answer[:100]}...' -> Grounded: {is_grounded}, Reason: {reason}\")\n",
        "\n",
        "# Example of a potentially hallucinated answer\n",
        "hallucinated_answer = \"Kyndryl announced a partnership with SpaceX to build datacenters on Mars.\"\n",
        "is_grounded, reason = validate_output(hallucinated_answer, reranked_results)\n",
        "print(f\"Answer: '{hallucinated_answer}' -> Grounded: {is_grounded}, Reason: {reason}\")"
      ]
    }
  ],
  "metadata": {
    "kernelspec": {
      "display_name": "Python 3",
      "language": "python",
      "name": "python3"
    },
    "language_info": {
      "codemirror_mode": {
        "name": "ipython",
        "version": 3
      },
      "file_extension": ".py",
      "mimetype": "text/x-python",
      "name": "python",
      "nbconvert_exporter": "python",
      "pygments_lexer": "ipython3",
      "version": "3.12.2"
    }
  },
  "nbformat": 4,
  "nbformat_minor": 2
}
